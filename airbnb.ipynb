{
 "cells": [
  {
   "cell_type": "code",
   "execution_count": 1,
   "metadata": {
    "ExecuteTime": {
     "end_time": "2024-10-21T13:23:24.536089Z",
     "start_time": "2024-10-21T13:23:23.934544Z"
    }
   },
   "outputs": [],
   "source": [
    "import pandas as pd"
   ]
  },
  {
   "cell_type": "code",
   "execution_count": 2,
   "metadata": {
    "ExecuteTime": {
     "end_time": "2024-10-21T13:23:36.481490Z",
     "start_time": "2024-10-21T13:23:36.296827Z"
    }
   },
   "outputs": [
    {
     "name": "stdout",
     "output_type": "stream",
     "text": [
      "apartment.csv                    landlord.csv\r\n",
      "aqp_queries.pkl                  neighborhoods.csv\r\n",
      "incomplete_apartment_kr_0.4.csv\r\n"
     ]
    }
   ],
   "source": [
    "ls datasets/missing_tuple_completion/airbnb/"
   ]
  },
  {
   "cell_type": "code",
   "execution_count": 3,
   "metadata": {
    "ExecuteTime": {
     "end_time": "2024-10-21T13:25:04.600103Z",
     "start_time": "2024-10-21T13:25:04.454708Z"
    }
   },
   "outputs": [],
   "source": [
    "apartment = pd.read_csv('datasets/missing_tuple_completion/airbnb/apartment.csv')\n",
    "landlord = pd.read_csv('datasets/missing_tuple_completion/airbnb/landlord.csv')\n",
    "neighborhoods = pd.read_csv('datasets/missing_tuple_completion/airbnb/neighborhoods.csv')"
   ]
  },
  {
   "cell_type": "code",
   "execution_count": 4,
   "metadata": {
    "ExecuteTime": {
     "end_time": "2024-10-21T13:25:50.264956Z",
     "start_time": "2024-10-21T13:25:50.209643Z"
    }
   },
   "outputs": [
    {
     "data": {
      "text/html": [
       "<div>\n",
       "<style scoped>\n",
       "    .dataframe tbody tr th:only-of-type {\n",
       "        vertical-align: middle;\n",
       "    }\n",
       "\n",
       "    .dataframe tbody tr th {\n",
       "        vertical-align: top;\n",
       "    }\n",
       "\n",
       "    .dataframe thead th {\n",
       "        text-align: right;\n",
       "    }\n",
       "</style>\n",
       "<table border=\"1\" class=\"dataframe\">\n",
       "  <thead>\n",
       "    <tr style=\"text-align: right;\">\n",
       "      <th></th>\n",
       "      <th>listings.id</th>\n",
       "      <th>listings.host_id</th>\n",
       "      <th>listings.property_type</th>\n",
       "      <th>listings.room_type</th>\n",
       "      <th>listings.accommodates</th>\n",
       "      <th>listings.price</th>\n",
       "      <th>listings.security_deposit</th>\n",
       "      <th>listings.cleaning_fee</th>\n",
       "      <th>listings.guests_included</th>\n",
       "      <th>listings.extra_people</th>\n",
       "      <th>listings.minimum_nights</th>\n",
       "      <th>listings.availability_365</th>\n",
       "      <th>listings.cancellation_policy</th>\n",
       "      <th>listings.neighborhood_id</th>\n",
       "    </tr>\n",
       "  </thead>\n",
       "  <tbody>\n",
       "    <tr>\n",
       "      <th>0</th>\n",
       "      <td>819027</td>\n",
       "      <td>4301802</td>\n",
       "      <td>P1</td>\n",
       "      <td>R1</td>\n",
       "      <td>2</td>\n",
       "      <td>603</td>\n",
       "      <td>0</td>\n",
       "      <td>250</td>\n",
       "      <td>2</td>\n",
       "      <td>0</td>\n",
       "      <td>4</td>\n",
       "      <td>242</td>\n",
       "      <td>C1</td>\n",
       "      <td>9</td>\n",
       "    </tr>\n",
       "    <tr>\n",
       "      <th>1</th>\n",
       "      <td>937102</td>\n",
       "      <td>5057848</td>\n",
       "      <td>P1</td>\n",
       "      <td>R1</td>\n",
       "      <td>4</td>\n",
       "      <td>801</td>\n",
       "      <td>0</td>\n",
       "      <td>500</td>\n",
       "      <td>2</td>\n",
       "      <td>100</td>\n",
       "      <td>3</td>\n",
       "      <td>22</td>\n",
       "      <td>C2</td>\n",
       "      <td>9</td>\n",
       "    </tr>\n",
       "    <tr>\n",
       "      <th>2</th>\n",
       "      <td>2060008</td>\n",
       "      <td>10545005</td>\n",
       "      <td>P1</td>\n",
       "      <td>R1</td>\n",
       "      <td>2</td>\n",
       "      <td>947</td>\n",
       "      <td>950</td>\n",
       "      <td>400</td>\n",
       "      <td>1</td>\n",
       "      <td>0</td>\n",
       "      <td>3</td>\n",
       "      <td>338</td>\n",
       "      <td>C2</td>\n",
       "      <td>9</td>\n",
       "    </tr>\n",
       "  </tbody>\n",
       "</table>\n",
       "</div>"
      ],
      "text/plain": [
       "   listings.id  listings.host_id listings.property_type listings.room_type  \\\n",
       "0       819027           4301802                     P1                 R1   \n",
       "1       937102           5057848                     P1                 R1   \n",
       "2      2060008          10545005                     P1                 R1   \n",
       "\n",
       "   listings.accommodates  listings.price  listings.security_deposit  \\\n",
       "0                      2             603                          0   \n",
       "1                      4             801                          0   \n",
       "2                      2             947                        950   \n",
       "\n",
       "   listings.cleaning_fee  listings.guests_included  listings.extra_people  \\\n",
       "0                    250                         2                      0   \n",
       "1                    500                         2                    100   \n",
       "2                    400                         1                      0   \n",
       "\n",
       "   listings.minimum_nights  listings.availability_365  \\\n",
       "0                        4                        242   \n",
       "1                        3                         22   \n",
       "2                        3                        338   \n",
       "\n",
       "  listings.cancellation_policy  listings.neighborhood_id  \n",
       "0                           C1                         9  \n",
       "1                           C2                         9  \n",
       "2                           C2                         9  "
      ]
     },
     "execution_count": 4,
     "metadata": {},
     "output_type": "execute_result"
    }
   ],
   "source": [
    "apartment.head(3)"
   ]
  },
  {
   "cell_type": "code",
   "execution_count": 5,
   "metadata": {
    "ExecuteTime": {
     "end_time": "2024-10-21T13:25:56.145828Z",
     "start_time": "2024-10-21T13:25:56.132261Z"
    }
   },
   "outputs": [
    {
     "data": {
      "text/html": [
       "<div>\n",
       "<style scoped>\n",
       "    .dataframe tbody tr th:only-of-type {\n",
       "        vertical-align: middle;\n",
       "    }\n",
       "\n",
       "    .dataframe tbody tr th {\n",
       "        vertical-align: top;\n",
       "    }\n",
       "\n",
       "    .dataframe thead th {\n",
       "        text-align: right;\n",
       "    }\n",
       "</style>\n",
       "<table border=\"1\" class=\"dataframe\">\n",
       "  <thead>\n",
       "    <tr style=\"text-align: right;\">\n",
       "      <th></th>\n",
       "      <th>hosts.host_id</th>\n",
       "      <th>hosts.host_since</th>\n",
       "      <th>hosts.host_response_time</th>\n",
       "      <th>hosts.host_response_rate</th>\n",
       "      <th>hosts.host_neighbourhood</th>\n",
       "      <th>hosts.tf_listings.host_id</th>\n",
       "    </tr>\n",
       "  </thead>\n",
       "  <tbody>\n",
       "    <tr>\n",
       "      <th>0</th>\n",
       "      <td>4301802</td>\n",
       "      <td>2012</td>\n",
       "      <td>1</td>\n",
       "      <td>90</td>\n",
       "      <td>731</td>\n",
       "      <td>1</td>\n",
       "    </tr>\n",
       "    <tr>\n",
       "      <th>1</th>\n",
       "      <td>5057848</td>\n",
       "      <td>2013</td>\n",
       "      <td>3</td>\n",
       "      <td>100</td>\n",
       "      <td>1558</td>\n",
       "      <td>1</td>\n",
       "    </tr>\n",
       "    <tr>\n",
       "      <th>2</th>\n",
       "      <td>10545005</td>\n",
       "      <td>2013</td>\n",
       "      <td>1</td>\n",
       "      <td>100</td>\n",
       "      <td>176</td>\n",
       "      <td>1</td>\n",
       "    </tr>\n",
       "  </tbody>\n",
       "</table>\n",
       "</div>"
      ],
      "text/plain": [
       "   hosts.host_id  hosts.host_since  hosts.host_response_time  \\\n",
       "0        4301802              2012                         1   \n",
       "1        5057848              2013                         3   \n",
       "2       10545005              2013                         1   \n",
       "\n",
       "   hosts.host_response_rate  hosts.host_neighbourhood  \\\n",
       "0                        90                       731   \n",
       "1                       100                      1558   \n",
       "2                       100                       176   \n",
       "\n",
       "   hosts.tf_listings.host_id  \n",
       "0                          1  \n",
       "1                          1  \n",
       "2                          1  "
      ]
     },
     "execution_count": 5,
     "metadata": {},
     "output_type": "execute_result"
    }
   ],
   "source": [
    "landlord.head(3)"
   ]
  },
  {
   "cell_type": "code",
   "execution_count": 6,
   "metadata": {
    "ExecuteTime": {
     "end_time": "2024-10-21T13:26:00.540729Z",
     "start_time": "2024-10-21T13:26:00.525473Z"
    }
   },
   "outputs": [
    {
     "data": {
      "text/html": [
       "<div>\n",
       "<style scoped>\n",
       "    .dataframe tbody tr th:only-of-type {\n",
       "        vertical-align: middle;\n",
       "    }\n",
       "\n",
       "    .dataframe tbody tr th {\n",
       "        vertical-align: top;\n",
       "    }\n",
       "\n",
       "    .dataframe thead th {\n",
       "        text-align: right;\n",
       "    }\n",
       "</style>\n",
       "<table border=\"1\" class=\"dataframe\">\n",
       "  <thead>\n",
       "    <tr style=\"text-align: right;\">\n",
       "      <th></th>\n",
       "      <th>neighborhoods.neighbourhood_cleansed</th>\n",
       "      <th>neighborhoods.neighbourhood_group_cleansed</th>\n",
       "      <th>neighborhoods.state</th>\n",
       "      <th>neighborhoods.country</th>\n",
       "      <th>neighborhoods.neighborhood_id</th>\n",
       "      <th>neighborhoods.tf_listings.neighborhood_id</th>\n",
       "    </tr>\n",
       "  </thead>\n",
       "  <tbody>\n",
       "    <tr>\n",
       "      <th>0</th>\n",
       "      <td>3</td>\n",
       "      <td>C0</td>\n",
       "      <td>S1</td>\n",
       "      <td>C1</td>\n",
       "      <td>9</td>\n",
       "      <td>11</td>\n",
       "    </tr>\n",
       "    <tr>\n",
       "      <th>1</th>\n",
       "      <td>6</td>\n",
       "      <td>C0</td>\n",
       "      <td>S20</td>\n",
       "      <td>C2</td>\n",
       "      <td>32</td>\n",
       "      <td>25</td>\n",
       "    </tr>\n",
       "    <tr>\n",
       "      <th>2</th>\n",
       "      <td>37</td>\n",
       "      <td>C0</td>\n",
       "      <td>S20</td>\n",
       "      <td>C2</td>\n",
       "      <td>121</td>\n",
       "      <td>61</td>\n",
       "    </tr>\n",
       "  </tbody>\n",
       "</table>\n",
       "</div>"
      ],
      "text/plain": [
       "   neighborhoods.neighbourhood_cleansed  \\\n",
       "0                                     3   \n",
       "1                                     6   \n",
       "2                                    37   \n",
       "\n",
       "  neighborhoods.neighbourhood_group_cleansed neighborhoods.state  \\\n",
       "0                                         C0                  S1   \n",
       "1                                         C0                 S20   \n",
       "2                                         C0                 S20   \n",
       "\n",
       "  neighborhoods.country  neighborhoods.neighborhood_id  \\\n",
       "0                    C1                              9   \n",
       "1                    C2                             32   \n",
       "2                    C2                            121   \n",
       "\n",
       "   neighborhoods.tf_listings.neighborhood_id  \n",
       "0                                         11  \n",
       "1                                         25  \n",
       "2                                         61  "
      ]
     },
     "execution_count": 6,
     "metadata": {},
     "output_type": "execute_result"
    }
   ],
   "source": [
    "neighborhoods.head(3)"
   ]
  },
  {
   "cell_type": "code",
   "execution_count": 7,
   "metadata": {
    "ExecuteTime": {
     "end_time": "2024-10-21T13:28:19.542225Z",
     "start_time": "2024-10-21T13:28:19.450800Z"
    }
   },
   "outputs": [],
   "source": [
    "df1 = pd.merge(apartment, landlord, left_on='listings.host_id', right_on='hosts.host_id', how='left')"
   ]
  },
  {
   "cell_type": "code",
   "execution_count": 8,
   "metadata": {
    "ExecuteTime": {
     "end_time": "2024-10-21T13:28:41.306394Z",
     "start_time": "2024-10-21T13:28:41.301624Z"
    }
   },
   "outputs": [
    {
     "name": "stdout",
     "output_type": "stream",
     "text": [
      "104072\n",
      "104072\n",
      "68037\n"
     ]
    }
   ],
   "source": [
    "print(len(df1))\n",
    "print(len(apartment))\n",
    "print(len(landlord))"
   ]
  },
  {
   "cell_type": "code",
   "execution_count": 9,
   "metadata": {
    "ExecuteTime": {
     "end_time": "2024-10-21T13:29:24.088538Z",
     "start_time": "2024-10-21T13:29:24.044154Z"
    }
   },
   "outputs": [
    {
     "data": {
      "text/html": [
       "<div>\n",
       "<style scoped>\n",
       "    .dataframe tbody tr th:only-of-type {\n",
       "        vertical-align: middle;\n",
       "    }\n",
       "\n",
       "    .dataframe tbody tr th {\n",
       "        vertical-align: top;\n",
       "    }\n",
       "\n",
       "    .dataframe thead th {\n",
       "        text-align: right;\n",
       "    }\n",
       "</style>\n",
       "<table border=\"1\" class=\"dataframe\">\n",
       "  <thead>\n",
       "    <tr style=\"text-align: right;\">\n",
       "      <th></th>\n",
       "      <th>listings.id</th>\n",
       "      <th>listings.host_id</th>\n",
       "      <th>listings.property_type</th>\n",
       "      <th>listings.room_type</th>\n",
       "      <th>listings.accommodates</th>\n",
       "      <th>listings.price</th>\n",
       "      <th>listings.security_deposit</th>\n",
       "      <th>listings.cleaning_fee</th>\n",
       "      <th>listings.guests_included</th>\n",
       "      <th>listings.extra_people</th>\n",
       "      <th>listings.minimum_nights</th>\n",
       "      <th>listings.availability_365</th>\n",
       "      <th>listings.cancellation_policy</th>\n",
       "      <th>listings.neighborhood_id</th>\n",
       "      <th>hosts.host_id</th>\n",
       "      <th>hosts.host_since</th>\n",
       "      <th>hosts.host_response_time</th>\n",
       "      <th>hosts.host_response_rate</th>\n",
       "      <th>hosts.host_neighbourhood</th>\n",
       "      <th>hosts.tf_listings.host_id</th>\n",
       "    </tr>\n",
       "  </thead>\n",
       "  <tbody>\n",
       "    <tr>\n",
       "      <th>0</th>\n",
       "      <td>819027</td>\n",
       "      <td>4301802</td>\n",
       "      <td>P1</td>\n",
       "      <td>R1</td>\n",
       "      <td>2</td>\n",
       "      <td>603</td>\n",
       "      <td>0</td>\n",
       "      <td>250</td>\n",
       "      <td>2</td>\n",
       "      <td>0</td>\n",
       "      <td>4</td>\n",
       "      <td>242</td>\n",
       "      <td>C1</td>\n",
       "      <td>9</td>\n",
       "      <td>4301802</td>\n",
       "      <td>2012</td>\n",
       "      <td>1</td>\n",
       "      <td>90</td>\n",
       "      <td>731</td>\n",
       "      <td>1</td>\n",
       "    </tr>\n",
       "    <tr>\n",
       "      <th>1</th>\n",
       "      <td>937102</td>\n",
       "      <td>5057848</td>\n",
       "      <td>P1</td>\n",
       "      <td>R1</td>\n",
       "      <td>4</td>\n",
       "      <td>801</td>\n",
       "      <td>0</td>\n",
       "      <td>500</td>\n",
       "      <td>2</td>\n",
       "      <td>100</td>\n",
       "      <td>3</td>\n",
       "      <td>22</td>\n",
       "      <td>C2</td>\n",
       "      <td>9</td>\n",
       "      <td>5057848</td>\n",
       "      <td>2013</td>\n",
       "      <td>3</td>\n",
       "      <td>100</td>\n",
       "      <td>1558</td>\n",
       "      <td>1</td>\n",
       "    </tr>\n",
       "    <tr>\n",
       "      <th>2</th>\n",
       "      <td>2060008</td>\n",
       "      <td>10545005</td>\n",
       "      <td>P1</td>\n",
       "      <td>R1</td>\n",
       "      <td>2</td>\n",
       "      <td>947</td>\n",
       "      <td>950</td>\n",
       "      <td>400</td>\n",
       "      <td>1</td>\n",
       "      <td>0</td>\n",
       "      <td>3</td>\n",
       "      <td>338</td>\n",
       "      <td>C2</td>\n",
       "      <td>9</td>\n",
       "      <td>10545005</td>\n",
       "      <td>2013</td>\n",
       "      <td>1</td>\n",
       "      <td>100</td>\n",
       "      <td>176</td>\n",
       "      <td>1</td>\n",
       "    </tr>\n",
       "    <tr>\n",
       "      <th>3</th>\n",
       "      <td>2029595</td>\n",
       "      <td>7412102</td>\n",
       "      <td>P1</td>\n",
       "      <td>R1</td>\n",
       "      <td>2</td>\n",
       "      <td>662</td>\n",
       "      <td>800</td>\n",
       "      <td>200</td>\n",
       "      <td>1</td>\n",
       "      <td>0</td>\n",
       "      <td>2</td>\n",
       "      <td>67</td>\n",
       "      <td>C1</td>\n",
       "      <td>9</td>\n",
       "      <td>7412102</td>\n",
       "      <td>2013</td>\n",
       "      <td>1</td>\n",
       "      <td>100</td>\n",
       "      <td>176</td>\n",
       "      <td>1</td>\n",
       "    </tr>\n",
       "    <tr>\n",
       "      <th>4</th>\n",
       "      <td>956185</td>\n",
       "      <td>5135504</td>\n",
       "      <td>P1</td>\n",
       "      <td>R1</td>\n",
       "      <td>5</td>\n",
       "      <td>993</td>\n",
       "      <td>995</td>\n",
       "      <td>400</td>\n",
       "      <td>2</td>\n",
       "      <td>100</td>\n",
       "      <td>2</td>\n",
       "      <td>14</td>\n",
       "      <td>C1</td>\n",
       "      <td>9</td>\n",
       "      <td>5135504</td>\n",
       "      <td>2013</td>\n",
       "      <td>1</td>\n",
       "      <td>100</td>\n",
       "      <td>176</td>\n",
       "      <td>1</td>\n",
       "    </tr>\n",
       "  </tbody>\n",
       "</table>\n",
       "</div>"
      ],
      "text/plain": [
       "   listings.id  listings.host_id listings.property_type listings.room_type  \\\n",
       "0       819027           4301802                     P1                 R1   \n",
       "1       937102           5057848                     P1                 R1   \n",
       "2      2060008          10545005                     P1                 R1   \n",
       "3      2029595           7412102                     P1                 R1   \n",
       "4       956185           5135504                     P1                 R1   \n",
       "\n",
       "   listings.accommodates  listings.price  listings.security_deposit  \\\n",
       "0                      2             603                          0   \n",
       "1                      4             801                          0   \n",
       "2                      2             947                        950   \n",
       "3                      2             662                        800   \n",
       "4                      5             993                        995   \n",
       "\n",
       "   listings.cleaning_fee  listings.guests_included  listings.extra_people  \\\n",
       "0                    250                         2                      0   \n",
       "1                    500                         2                    100   \n",
       "2                    400                         1                      0   \n",
       "3                    200                         1                      0   \n",
       "4                    400                         2                    100   \n",
       "\n",
       "   listings.minimum_nights  listings.availability_365  \\\n",
       "0                        4                        242   \n",
       "1                        3                         22   \n",
       "2                        3                        338   \n",
       "3                        2                         67   \n",
       "4                        2                         14   \n",
       "\n",
       "  listings.cancellation_policy  listings.neighborhood_id  hosts.host_id  \\\n",
       "0                           C1                         9        4301802   \n",
       "1                           C2                         9        5057848   \n",
       "2                           C2                         9       10545005   \n",
       "3                           C1                         9        7412102   \n",
       "4                           C1                         9        5135504   \n",
       "\n",
       "   hosts.host_since  hosts.host_response_time  hosts.host_response_rate  \\\n",
       "0              2012                         1                        90   \n",
       "1              2013                         3                       100   \n",
       "2              2013                         1                       100   \n",
       "3              2013                         1                       100   \n",
       "4              2013                         1                       100   \n",
       "\n",
       "   hosts.host_neighbourhood  hosts.tf_listings.host_id  \n",
       "0                       731                          1  \n",
       "1                      1558                          1  \n",
       "2                       176                          1  \n",
       "3                       176                          1  \n",
       "4                       176                          1  "
      ]
     },
     "execution_count": 9,
     "metadata": {},
     "output_type": "execute_result"
    }
   ],
   "source": [
    "df1.head()"
   ]
  },
  {
   "cell_type": "code",
   "execution_count": 10,
   "metadata": {
    "ExecuteTime": {
     "end_time": "2024-10-21T13:29:50.901852Z",
     "start_time": "2024-10-21T13:29:50.887616Z"
    }
   },
   "outputs": [
    {
     "data": {
      "text/html": [
       "<div>\n",
       "<style scoped>\n",
       "    .dataframe tbody tr th:only-of-type {\n",
       "        vertical-align: middle;\n",
       "    }\n",
       "\n",
       "    .dataframe tbody tr th {\n",
       "        vertical-align: top;\n",
       "    }\n",
       "\n",
       "    .dataframe thead th {\n",
       "        text-align: right;\n",
       "    }\n",
       "</style>\n",
       "<table border=\"1\" class=\"dataframe\">\n",
       "  <thead>\n",
       "    <tr style=\"text-align: right;\">\n",
       "      <th></th>\n",
       "      <th>neighborhoods.neighbourhood_cleansed</th>\n",
       "      <th>neighborhoods.neighbourhood_group_cleansed</th>\n",
       "      <th>neighborhoods.state</th>\n",
       "      <th>neighborhoods.country</th>\n",
       "      <th>neighborhoods.neighborhood_id</th>\n",
       "      <th>neighborhoods.tf_listings.neighborhood_id</th>\n",
       "    </tr>\n",
       "  </thead>\n",
       "  <tbody>\n",
       "    <tr>\n",
       "      <th>0</th>\n",
       "      <td>3</td>\n",
       "      <td>C0</td>\n",
       "      <td>S1</td>\n",
       "      <td>C1</td>\n",
       "      <td>9</td>\n",
       "      <td>11</td>\n",
       "    </tr>\n",
       "    <tr>\n",
       "      <th>1</th>\n",
       "      <td>6</td>\n",
       "      <td>C0</td>\n",
       "      <td>S20</td>\n",
       "      <td>C2</td>\n",
       "      <td>32</td>\n",
       "      <td>25</td>\n",
       "    </tr>\n",
       "    <tr>\n",
       "      <th>2</th>\n",
       "      <td>37</td>\n",
       "      <td>C0</td>\n",
       "      <td>S20</td>\n",
       "      <td>C2</td>\n",
       "      <td>121</td>\n",
       "      <td>61</td>\n",
       "    </tr>\n",
       "    <tr>\n",
       "      <th>3</th>\n",
       "      <td>9</td>\n",
       "      <td>C0</td>\n",
       "      <td>S20</td>\n",
       "      <td>C2</td>\n",
       "      <td>35</td>\n",
       "      <td>19</td>\n",
       "    </tr>\n",
       "    <tr>\n",
       "      <th>4</th>\n",
       "      <td>10</td>\n",
       "      <td>C0</td>\n",
       "      <td>S20</td>\n",
       "      <td>C2</td>\n",
       "      <td>36</td>\n",
       "      <td>37</td>\n",
       "    </tr>\n",
       "  </tbody>\n",
       "</table>\n",
       "</div>"
      ],
      "text/plain": [
       "   neighborhoods.neighbourhood_cleansed  \\\n",
       "0                                     3   \n",
       "1                                     6   \n",
       "2                                    37   \n",
       "3                                     9   \n",
       "4                                    10   \n",
       "\n",
       "  neighborhoods.neighbourhood_group_cleansed neighborhoods.state  \\\n",
       "0                                         C0                  S1   \n",
       "1                                         C0                 S20   \n",
       "2                                         C0                 S20   \n",
       "3                                         C0                 S20   \n",
       "4                                         C0                 S20   \n",
       "\n",
       "  neighborhoods.country  neighborhoods.neighborhood_id  \\\n",
       "0                    C1                              9   \n",
       "1                    C2                             32   \n",
       "2                    C2                            121   \n",
       "3                    C2                             35   \n",
       "4                    C2                             36   \n",
       "\n",
       "   neighborhoods.tf_listings.neighborhood_id  \n",
       "0                                         11  \n",
       "1                                         25  \n",
       "2                                         61  \n",
       "3                                         19  \n",
       "4                                         37  "
      ]
     },
     "execution_count": 10,
     "metadata": {},
     "output_type": "execute_result"
    }
   ],
   "source": [
    "neighborhoods.head()"
   ]
  },
  {
   "cell_type": "code",
   "execution_count": 11,
   "metadata": {
    "ExecuteTime": {
     "end_time": "2024-10-21T13:30:16.480441Z",
     "start_time": "2024-10-21T13:30:16.412331Z"
    }
   },
   "outputs": [],
   "source": [
    "df_full = pd.merge(df1, neighborhoods, left_on='listings.neighborhood_id', right_on='neighborhoods.neighborhood_id', how='left')"
   ]
  },
  {
   "cell_type": "code",
   "execution_count": 13,
   "metadata": {
    "ExecuteTime": {
     "end_time": "2024-10-21T13:30:32.655857Z",
     "start_time": "2024-10-21T13:30:32.651249Z"
    }
   },
   "outputs": [
    {
     "name": "stdout",
     "output_type": "stream",
     "text": [
      "104072\n",
      "104072\n"
     ]
    }
   ],
   "source": [
    "print(len(df_full))\n",
    "print(len(df1))"
   ]
  },
  {
   "cell_type": "code",
   "execution_count": 14,
   "metadata": {
    "ExecuteTime": {
     "end_time": "2024-10-21T13:31:05.684431Z",
     "start_time": "2024-10-21T13:31:05.158268Z"
    }
   },
   "outputs": [],
   "source": [
    "df_full.to_csv('datasets/missing_tuple_completion/airbnb/airbnb.csv')"
   ]
  },
  {
   "cell_type": "markdown",
   "metadata": {},
   "source": [
    "# Get config.json"
   ]
  },
  {
   "cell_type": "code",
   "execution_count": 15,
   "metadata": {
    "ExecuteTime": {
     "end_time": "2024-10-21T13:32:17.734674Z",
     "start_time": "2024-10-21T13:32:17.436571Z"
    }
   },
   "outputs": [],
   "source": [
    "airbnb = pd.read_csv('datasets/missing_tuple_completion/airbnb/airbnb.csv')\n",
    "apartment = pd.read_csv('datasets/missing_tuple_completion/airbnb/apartment.csv')\n",
    "landlord = pd.read_csv('datasets/missing_tuple_completion/airbnb/landlord.csv')\n",
    "neighborhoods = pd.read_csv('datasets/missing_tuple_completion/airbnb/neighborhoods.csv')"
   ]
  },
  {
   "cell_type": "markdown",
   "metadata": {},
   "source": [
    "            \"name\": \"company_bankruptcy_prediction\",\n",
    "            \"column_num\": 96,\n",
    "            \"train_row_num\": 4568,\n",
    "            \"test_row_num\": 2251,\n",
    "            \"total_row_num\": 6819,\n",
    "            \"label_column\": 0,\n",
    "            \"drop_columns\": [],\n",
    "            \"train_file\": \"./datasets/company_bankruptcy_prediction/train.csv\",\n",
    "            \"test_file\": \"./datasets/company_bankruptcy_prediction/test.csv\",\n",
    "            \"task\": \"classification\",\n",
    "            \"columns\": [\n",
    "                {\n",
    "                    \"column_name\": \"Bankrupt?\",\n",
    "                    \"column_type\": \"int\",\n",
    "                    \"column_value\": []\n",
    "                }]"
   ]
  },
  {
   "cell_type": "code",
   "execution_count": 16,
   "metadata": {
    "ExecuteTime": {
     "end_time": "2024-10-21T13:37:42.546226Z",
     "start_time": "2024-10-21T13:37:41.912133Z"
    }
   },
   "outputs": [],
   "source": [
    "from sklearn.model_selection import train_test_split"
   ]
  },
  {
   "cell_type": "code",
   "execution_count": 19,
   "metadata": {
    "ExecuteTime": {
     "end_time": "2024-10-21T13:44:18.219970Z",
     "start_time": "2024-10-21T13:44:17.584125Z"
    }
   },
   "outputs": [],
   "source": [
    "! mkdir airbnb\n",
    "! mkdir apartment\n",
    "! mkdir landlord\n",
    "! mkdir neighborhoods"
   ]
  },
  {
   "cell_type": "code",
   "execution_count": 35,
   "metadata": {
    "ExecuteTime": {
     "end_time": "2024-10-21T13:50:23.086981Z",
     "start_time": "2024-10-21T13:50:23.049918Z"
    }
   },
   "outputs": [],
   "source": [
    "name = 'neighborhoods'\n",
    "df = neighborhoods\n",
    "column_num = len(df.columns)\n",
    "train,test = train_test_split(df, test_size=0.33, random_state=42, shuffle=False)\n",
    "train_row_num = len(train)\n",
    "test_row_num = len(test)\n",
    "total_row_num = len(df)\n",
    "train_file = './datasets/{}/train.csv'.format(name)\n",
    "test_file = './datasets/{}/test.csv'.format(name)\n",
    "train.to_csv('{}/train.csv'.format(name), header=None)\n",
    "test.to_csv('{}/test.csv'.format(name), header=None)\n",
    "task = None\n",
    "columns = []"
   ]
  },
  {
   "cell_type": "code",
   "execution_count": 36,
   "metadata": {
    "ExecuteTime": {
     "end_time": "2024-10-21T13:50:23.737092Z",
     "start_time": "2024-10-21T13:50:23.709273Z"
    }
   },
   "outputs": [],
   "source": [
    "for col in df.columns:\n",
    "    col_info = {\n",
    "        \"column_name\": name,\n",
    "        \"column_value\": []\n",
    "    }\n",
    "    if df[col].dtype == 'object':\n",
    "        col_info['column_type'] = 'string'\n",
    "        col_info['column_value'] = list(df[col].unique())\n",
    "    elif df[col].dtype == 'int64':\n",
    "        col_info['column_type'] = 'int'\n",
    "    elif df[col].dtype == 'float64':\n",
    "        col_info['column_type'] = 'float'\n",
    "    else:\n",
    "        print('Err on {}'.format(col))\n",
    "    columns.append(col_info)\n",
    "\n",
    "config = {\n",
    "    \"name\": name,\n",
    "    \"column_num\": column_num,\n",
    "    \"train_row_num\": train_row_num,\n",
    "    \"test_row_num\": test_row_num,\n",
    "    \"total_row_num\": total_row_num,\n",
    "    \"train_file\": train_file,\n",
    "    \"test_file\": test_file,\n",
    "    \"task\": task,\n",
    "    \"columns\": columns   \n",
    "}\n",
    "\n",
    "import json\n",
    "class NpEncoder(json.JSONEncoder):\n",
    "    def default(self, obj):\n",
    "        if isinstance(obj, np.integer):\n",
    "            return int(obj)\n",
    "        if isinstance(obj, np.floating):\n",
    "            return float(obj)\n",
    "        if isinstance(obj, np.ndarray):\n",
    "            return obj.tolist()\n",
    "        return json.JSONEncoder.default(self, obj)\n",
    "\n",
    "js_str = json.dumps(config, indent=4, ensure_ascii=False, cls=NpEncoder)\n",
    "js_file = open('{}.json'.format(name), 'w')\n",
    "js_file.write(js_str)\n",
    "js_file.close()"
   ]
  },
  {
   "cell_type": "code",
   "execution_count": null,
   "metadata": {},
   "outputs": [],
   "source": []
  }
 ],
 "metadata": {
  "kernelspec": {
   "display_name": "Python 3 (ipykernel)",
   "language": "python",
   "name": "python3"
  },
  "language_info": {
   "codemirror_mode": {
    "name": "ipython",
    "version": 3
   },
   "file_extension": ".py",
   "mimetype": "text/x-python",
   "name": "python",
   "nbconvert_exporter": "python",
   "pygments_lexer": "ipython3",
   "version": "3.7.1"
  },
  "toc": {
   "base_numbering": 1,
   "nav_menu": {},
   "number_sections": true,
   "sideBar": true,
   "skip_h1_title": false,
   "title_cell": "Table of Contents",
   "title_sidebar": "Contents",
   "toc_cell": false,
   "toc_position": {},
   "toc_section_display": true,
   "toc_window_display": false
  }
 },
 "nbformat": 4,
 "nbformat_minor": 4
}
